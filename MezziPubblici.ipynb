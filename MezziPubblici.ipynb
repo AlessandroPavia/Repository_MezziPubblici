{
 "cells": [
  {
   "cell_type": "markdown",
   "id": "08e3590d",
   "metadata": {},
   "source": [
    "Tema esame mezzi pubblici"
   ]
  },
  {
   "cell_type": "code",
   "execution_count": 10,
   "id": "10848691",
   "metadata": {},
   "outputs": [],
   "source": [
    "import csv\n",
    "from pprint import pprint"
   ]
  },
  {
   "cell_type": "markdown",
   "id": "0a55930b",
   "metadata": {},
   "source": [
    "Funzione Leggi Dati"
   ]
  },
  {
   "cell_type": "code",
   "execution_count": 11,
   "id": "20344c12",
   "metadata": {},
   "outputs": [],
   "source": [
    "def leggiDati(filename):\n",
    "    file=open(filename,'r',encoding='utf-8')\n",
    "    corse=[]\n",
    "    fermate=[]\n",
    "\n",
    "    primaRiga=file.readline().strip().split(',')\n",
    "    fermate=primaRiga[2:]\n",
    "    for line in file:\n",
    "        campo=line.rstrip().split(',')\n",
    "        autista=campo[0]\n",
    "        passeggeri=[]\n",
    "        for dato in campo[2:]:\n",
    "            if dato=='--':\n",
    "                passeggeri.append((0,0))\n",
    "            elif '/' in dato:\n",
    "                numeri=dato.split('/')\n",
    "                saliti=int(numeri[0])\n",
    "                scesi=int(numeri[1])\n",
    "                passeggeri.append((saliti,scesi))\n",
    "            elif '-' in dato:\n",
    "                datoAssoluto=dato.rstrip('-')\n",
    "                datoAssoluto=int(datoAssoluto)\n",
    "                passeggeri.append((0,datoAssoluto))\n",
    "            else:\n",
    "                passeggeri.append((int(dato),0))\n",
    "        corsa={\n",
    "            'autista':autista,\n",
    "            'passeggeri':passeggeri\n",
    "        }\n",
    "        corse.append(corsa)\n",
    "    file.close()\n",
    "    return corse, fermate"
   ]
  },
  {
   "cell_type": "markdown",
   "id": "50f8efde",
   "metadata": {},
   "source": [
    "Funzione Leggi Nomi"
   ]
  },
  {
   "cell_type": "code",
   "execution_count": 12,
   "id": "101fa1d9",
   "metadata": {},
   "outputs": [],
   "source": [
    "def leggiNomi(filename):\n",
    "    nomi={}\n",
    "    file=open(filename,'r',encoding='utf-8')\n",
    "    for line in file:\n",
    "        campo=line.rstrip().split(':')\n",
    "        nomi[campo[0]]=campo[1].strip()\n",
    "    file.close()\n",
    "    return nomi"
   ]
  },
  {
   "cell_type": "markdown",
   "id": "757a02d0",
   "metadata": {},
   "source": [
    "Funzione Calcola passeggeri per ogni autista"
   ]
  },
  {
   "cell_type": "code",
   "execution_count": 13,
   "id": "f113e0f0",
   "metadata": {},
   "outputs": [],
   "source": [
    "def calcolaPasseggeriXAutista(corse):\n",
    "    fermate=[]\n",
    "    saliti={}\n",
    "    \n",
    "    for corsa in corse:\n",
    "        tot=0\n",
    "        for tupla in corsa['passeggeri']:\n",
    "            tot+=tupla[0]\n",
    "\n",
    "        autista=corsa['autista']\n",
    "\n",
    "        if autista in saliti:\n",
    "            saliti[autista]+=tot\n",
    "        else:\n",
    "            saliti[autista]=tot\n",
    "\n",
    "    return saliti\n"
   ]
  },
  {
   "cell_type": "markdown",
   "id": "f53b73bf",
   "metadata": {},
   "source": [
    "Funzione Main"
   ]
  },
  {
   "cell_type": "code",
   "execution_count": 14,
   "id": "871544d5",
   "metadata": {},
   "outputs": [
    {
     "name": "stdout",
     "output_type": "stream",
     "text": [
      "La fermata con il massimo di saliti 1626 è Aeroporto\n",
      "La fermata con il massimo di scesi 39 è Caselle 2\n",
      "{'A012': 296, 'A003': 335, 'A041': 289, 'A240': 316, 'A119': 301, 'A015': 284, 'A154': 246, 'A008': 257, 'A212': 111, 'A021': 163, 'A022': 117, 'A109': 98, 'A200': 149, 'A010': 140, 'A139': 107, 'A006': 87}\n"
     ]
    }
   ],
   "source": [
    "def main():\n",
    "    corse,fermate=leggiDati('dati_aeroporto_torino.csv')\n",
    "    #pprint(corse)\n",
    "    #pprint(fermate)\n",
    "\n",
    "    nomi=leggiNomi('database.txt')\n",
    "    #pprint(nomi)\n",
    "\n",
    "    salitiMax=0\n",
    "    scesiMAx=0\n",
    "\n",
    "    for fermata in range(len(fermate)):\n",
    "        saliti=0\n",
    "        scesi=0\n",
    "        for corsa in corse:\n",
    "            saliti+=corsa['passeggeri'][fermata][0]\n",
    "            scesi+=corsa['passeggeri'][fermata][1]\n",
    "        if saliti>salitiMax:\n",
    "            salitiMax=saliti\n",
    "            fermataSalitiMax=fermate[fermata]\n",
    "        if scesi>scesiMAx:\n",
    "            scesiMAx=scesi\n",
    "            fermataScesiMAx=fermate[fermata]\n",
    "\n",
    "    print(f'La fermata con il massimo di saliti {salitiMax} è {nomi[fermataSalitiMax]}')\n",
    "    print(f'La fermata con il massimo di scesi {scesiMAx} è {nomi[fermataScesiMAx]}')\n",
    "\n",
    "\n",
    "\n",
    "    passeggerixAutista = calcolaPasseggeriXAutista(corse)\n",
    "    print(passeggerixAutista)\n",
    "    \n",
    "\n",
    "\n",
    "\n",
    "main()"
   ]
  }
 ],
 "metadata": {
  "kernelspec": {
   "display_name": "Python 3",
   "language": "python",
   "name": "python3"
  },
  "language_info": {
   "codemirror_mode": {
    "name": "ipython",
    "version": 3
   },
   "file_extension": ".py",
   "mimetype": "text/x-python",
   "name": "python",
   "nbconvert_exporter": "python",
   "pygments_lexer": "ipython3",
   "version": "3.10.7"
  }
 },
 "nbformat": 4,
 "nbformat_minor": 5
}
