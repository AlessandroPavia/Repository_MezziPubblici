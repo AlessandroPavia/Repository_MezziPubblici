{
 "cells": [
  {
   "cell_type": "markdown",
   "id": "5dd0a6b9",
   "metadata": {},
   "source": [
    "IMPORT"
   ]
  },
  {
   "cell_type": "code",
   "execution_count": null,
   "id": "5d3216ee",
   "metadata": {},
   "outputs": [],
   "source": [
    "import pandas as pd\n",
    "import csv\n",
    "import random \n",
    "import numpy as np\n"
   ]
  },
  {
   "cell_type": "markdown",
   "id": "4b84c039",
   "metadata": {},
   "source": [
    "FUNCTIONS"
   ]
  },
  {
   "cell_type": "markdown",
   "id": "224feb85",
   "metadata": {},
   "source": [
    "FUNCTION LEGGIDATI"
   ]
  },
  {
   "cell_type": "code",
   "execution_count": null,
   "id": "18f4fd58",
   "metadata": {},
   "outputs": [],
   "source": [
    "\n",
    "def LeggiDati(filename):\n",
    "\n",
    "    df=pd.read_csv(filename,header=0)\n",
    "\n",
    "    corse=[]\n",
    "    fermate=df.columns[2:].tolist()  #creo una lista con le fermate prendendo dalla seconda colonna in avanti\n",
    "\n",
    "    for _,riga in df.iterrows():  #iterrows itera per indice e contenuto della riga, con i nomi delle colonne come chiavi.\n",
    "        autista=riga.iloc[0]\n",
    "        passeggeri=[]\n",
    "        for dato in riga[2:]:\n",
    "            if pd.isna(dato) or dato == '--': # il comando .isna() serve per capire se il valore è nullo\n",
    "                passeggeri.append((0, 0))\n",
    "            elif isinstance(dato, str) and '/' in dato: # il comando isintance(dato,str) controlla se dato è una stringa-> ritorna vero o falso\n",
    "                saliti, scesi = map(int, dato.split('/')) # il comando map(funzione,iterabile) serve per applicare una funzione a ogni elemento di un iterabile\n",
    "                passeggeri.append((saliti, scesi)) \n",
    "            elif isinstance(dato, str) and dato.startswith('-'):\n",
    "                scesi = int(dato.rstrip('-'))\n",
    "                passeggeri.append((0, scesi))\n",
    "            else:\n",
    "                    try:\n",
    "                        saliti = int(dato)\n",
    "                        passeggeri.append((saliti, 0))\n",
    "                    except:\n",
    "                        passeggeri.append((0, 0))\n",
    "\n",
    "        corsa = {'autista': autista, 'passeggeri': passeggeri}\n",
    "        corse.append(corsa)\n",
    "    \n",
    "    return df,corse,fermate\n",
    "\n",
    "\n",
    "\n",
    "\n",
    "#for corsa in corse:\n",
    "   # print(corsa)"
   ]
  },
  {
   "cell_type": "markdown",
   "id": "46832310",
   "metadata": {},
   "source": [
    "FUNCTION ESTRAI_SALITI_SCESI"
   ]
  },
  {
   "cell_type": "code",
   "execution_count": null,
   "id": "0f951527",
   "metadata": {},
   "outputs": [],
   "source": [
    "def estrai_saliti_scesi(val):\n",
    "    if val == '--' or pd.isna(val):\n",
    "        return (0, 0)\n",
    "    elif '/' in val:\n",
    "        saliti, scesi = val.split('/')\n",
    "        return (int(saliti), -int(scesi))\n",
    "    elif val.startswith('-'):\n",
    "        return (0, -int(val.strip('-')))\n",
    "    else:\n",
    "        try:\n",
    "            return (int(val), 0)\n",
    "        except:\n",
    "            return (0, 0)"
   ]
  },
  {
   "cell_type": "markdown",
   "id": "f8b46235",
   "metadata": {},
   "source": [
    "FUNCTION ESTRAI_SALITI_SCESI_CLA"
   ]
  },
  {
   "cell_type": "code",
   "execution_count": null,
   "id": "1f7381c8",
   "metadata": {},
   "outputs": [],
   "source": [
    "def estrai_saliti_scesi_cla(val):\n",
    "    if val == '--' or pd.isna(val):\n",
    "        return ('0/0', 0,0)\n",
    "    elif '/' in val:\n",
    "        saliti, scesi = val.split('/')\n",
    "        return (val,int(saliti), -int(scesi))\n",
    "    elif val.startswith('-'):\n",
    "        return (f\"0/{int(val.strip('-'))}\",0, -int(val.strip('-')))\n",
    "    else:\n",
    "        try:\n",
    "            return (f'{int(val)}/0',int(val), 0)\n",
    "        except:\n",
    "            return ('0/0',0, 0)"
   ]
  },
  {
   "cell_type": "markdown",
   "id": "32a3b614",
   "metadata": {},
   "source": [
    "FUNCTION LEGGINOMI"
   ]
  },
  {
   "cell_type": "code",
   "execution_count": null,
   "id": "271ed8c7",
   "metadata": {},
   "outputs": [],
   "source": [
    "def LeggiNomi(filename): \n",
    "    df=pd.read_csv(filename, sep=':',header=None, names=['Code','Name'])\n",
    "    dict_nomi={}\n",
    "    for _,riga in df.iterrows():\n",
    "        dict_nomi[riga.iloc[0]]=riga.iloc[1]\n",
    "    #print(dict_nomi)\n",
    "\n",
    "    return df, dict_nomi"
   ]
  },
  {
   "cell_type": "markdown",
   "id": "4b43b607",
   "metadata": {},
   "source": [
    "GET DATA"
   ]
  },
  {
   "cell_type": "code",
   "execution_count": null,
   "id": "c81b5381",
   "metadata": {},
   "outputs": [],
   "source": [
    "df_db= LeggiNomi('database.txt')[0]\n",
    "df_db2=LeggiNomi('database.txt')[0]\n",
    "df_ae=LeggiDati('dati_aeroporto_torino.csv')[0]\n",
    "# i read.csv sono dentro le funzioni"
   ]
  },
  {
   "cell_type": "markdown",
   "id": "2e303609",
   "metadata": {},
   "source": [
    "GET TOTAL NUMBER OF PASSENGERS"
   ]
  },
  {
   "cell_type": "code",
   "execution_count": null,
   "id": "871ef5d1",
   "metadata": {},
   "outputs": [],
   "source": [
    "\n",
    "df_ae_melt=pd.melt(df_ae,id_vars=['ID', 'Time'],var_name='Fermata_ID',value_name='Passeggeri')  #idvars =identificativo di oggni riga    varname=come chiamo la nuova colonna che prende i nomi delle colonne passate(eccetto quelle identificative) \n",
    "df_ae_melt.rename(columns={'ID':'Autista_ID'}, inplace=True)\n",
    "\n",
    "df_ae_melt['Passeggeri2'] = df_ae_melt['Passeggeri'].astype(str).str.strip() #rimuovo spazi e mi assicuro che siano stringhe, così le converto con la prossima funzione in interi\n",
    "df_ae_melt[['Passeggeri2','Saliti', 'Scesi']] = df_ae_melt['Passeggeri2'].apply(estrai_saliti_scesi_cla).apply(pd.Series) #applico la funzione estrai_saliti_scesi a tutte le righe\n",
    "\n",
    "df_ae_melt['Totale_Passeggeri']=df_ae_melt['Saliti'] - (df_ae_melt['Scesi'])\n",
    "display(df_ae_melt.tail(10))\n"
   ]
  },
  {
   "cell_type": "markdown",
   "id": "5d6de27b",
   "metadata": {},
   "source": [
    "GET DF_DB_DRIVERS AND DF_DB_STOPS OUT OF DF_DB"
   ]
  },
  {
   "cell_type": "code",
   "execution_count": null,
   "id": "3d9bf0e3",
   "metadata": {},
   "outputs": [],
   "source": [
    "df_db['Tipo'] = np.where(df_db['Code'].str.contains('A'), 'autista', 'fermata')\n",
    "#display(df_db)\n",
    "\n",
    "\n",
    "df_db_drivers= df_db.loc[df_db['Tipo']=='autista']\n",
    "df_db_drivers.rename(columns={'Code':'Autista_ID'}, inplace=True)\n",
    "df_db_stops=df_db.loc[df_db['Tipo']=='fermata']\n",
    "df_db_stops.rename(columns={'Code':'Fermata_ID'}, inplace=True)\n",
    "display(df_db_drivers)\n",
    "display(df_db_stops)"
   ]
  },
  {
   "cell_type": "markdown",
   "id": "766af222",
   "metadata": {},
   "source": [
    "ASSOCIATED DF_DB_DRIVERS AND DF_AE_MELT"
   ]
  },
  {
   "cell_type": "code",
   "execution_count": null,
   "id": "a07e77d8",
   "metadata": {},
   "outputs": [],
   "source": [
    "\n",
    "#PRIMO JOIN\n",
    "df_joined=df_ae_melt.merge(df_db_drivers, how='left', on='Autista_ID')                                                          #nella riga in basso: non ho messo la colonna tipo, nel dataframe joined\n",
    "df_joined=df_joined[['Autista_ID','Name','Time','Fermata_ID','Passeggeri','Passeggeri2','Saliti','Scesi','Totale_Passeggeri']] #ho spostato la colonna 'Name' affianco a quella di 'Autista_ID'\n",
    "df_joined.rename(columns={'Name':'Autista_Name'}, inplace=True)\n",
    "#display(df_joined.sort_values(by='Totale_Passeggeri'))\n",
    "display(df_joined)\n",
    "#display(df_joined.iloc[50:100])\n",
    "\n"
   ]
  },
  {
   "cell_type": "markdown",
   "id": "615f48bd",
   "metadata": {},
   "source": [
    "ASSOCIATED DF_JOINED AND DF_DB_STOPS"
   ]
  },
  {
   "cell_type": "code",
   "execution_count": null,
   "id": "0688b097",
   "metadata": {},
   "outputs": [],
   "source": [
    "'''SECONDO JOIN'''\n",
    "df_joined2=df_joined.merge(df_db_stops, on='Fermata_ID')\n",
    "df_joined2.rename(columns={'Name':'Fermata_Name'}, inplace=True)\n",
    "df_joined2=df_joined2[['Autista_ID','Autista_Name','Time','Fermata_ID','Fermata_Name','Passeggeri','Passeggeri2','Saliti','Scesi','Totale_Passeggeri']]\n",
    "display(df_joined2)"
   ]
  },
  {
   "cell_type": "markdown",
   "id": "02be3db9",
   "metadata": {},
   "source": [
    "GET MAX/MIN PASSENGERS"
   ]
  },
  {
   "cell_type": "code",
   "execution_count": null,
   "id": "d40e34fb",
   "metadata": {},
   "outputs": [],
   "source": [
    "'''RACCOLGO SALITI E SCESI'''\n",
    "SalitiRaccolti=df_joined2.groupby('Fermata_Name')['Saliti'].sum()\n",
    "#display(SalitiRaccolti)\n",
    "ScesiRaccolti=df_joined2.groupby('Fermata_Name')['Scesi'].sum()\n",
    "#display(ScesiRaccolti)\n",
    "\n",
    "max_saliti=SalitiRaccolti.max()\n",
    "#display(max_saliti)\n",
    "max_scesi=-(ScesiRaccolti.min())\n",
    "\n",
    "fermata_max= SalitiRaccolti.idxmax()\n",
    "#display(indice_fermata_max)\n",
    "fermata_min=ScesiRaccolti.idxmin()"
   ]
  },
  {
   "cell_type": "markdown",
   "id": "3c8359bb",
   "metadata": {},
   "source": [
    "GET SOLUTION"
   ]
  },
  {
   "cell_type": "code",
   "execution_count": null,
   "id": "48001b09",
   "metadata": {},
   "outputs": [],
   "source": [
    "\n",
    "\n",
    "'''PRINT E SOLUZIONE'''\n",
    "#MaxSaliti=df_fermateRaccolte['Saliti'].max()\n",
    "#display(MaxSaliti)\n",
    "print(f'La fermata con più saliti è {fermata_max} con {max_saliti} passeggeri saliti ')\n",
    "print(f'La fermata con più scesi è {fermata_min} con {max_scesi} passeggeri scesi')\n",
    "\n",
    "#print(df_joined.groupby('Autista_ID')['Saliti'].sum())\n",
    "SalitiXAutista=df_joined.groupby('Autista_ID')['Saliti'].sum().to_dict() #creo dizionario con chiave autista id e valore la somma dei saliti per quell'autista id\n",
    "#print(SalitiXAutista)\n",
    "\n",
    "SalitiXAutistaOrdinato= dict(sorted(SalitiXAutista.items(), key=lambda item: item[1], reverse=True)) #ordino il dizionario in modo decrescente\n",
    "print(SalitiXAutistaOrdinato)\n",
    "print('Lista di autisti ordinata in base al numero di passeggeri saliti in una giornata:')\n",
    "\n",
    "for Autista_ID in SalitiXAutistaOrdinato:\n",
    "    print(f'{Autista_ID} con {SalitiXAutistaOrdinato[Autista_ID]} passeggeri')\n",
    "\n",
    "#devo ricordarmi di cancellare l'output prima del commit!!\n"
   ]
  }
 ],
 "metadata": {
  "kernelspec": {
   "display_name": "Python 3",
   "language": "python",
   "name": "python3"
  },
  "language_info": {
   "codemirror_mode": {
    "name": "ipython",
    "version": 3
   },
   "file_extension": ".py",
   "mimetype": "text/x-python",
   "name": "python",
   "nbconvert_exporter": "python",
   "pygments_lexer": "ipython3",
   "version": "3.10.7"
  }
 },
 "nbformat": 4,
 "nbformat_minor": 5
}
