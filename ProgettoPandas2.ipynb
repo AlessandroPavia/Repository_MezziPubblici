{
 "cells": [
  {
   "cell_type": "markdown",
   "id": "5dd0a6b9",
   "metadata": {},
   "source": [
    "IMPORT"
   ]
  },
  {
   "cell_type": "code",
   "execution_count": 173,
   "id": "5d3216ee",
   "metadata": {},
   "outputs": [],
   "source": [
    "import pandas as pd\n",
    "import numpy as np\n"
   ]
  },
  {
   "cell_type": "markdown",
   "id": "4b84c039",
   "metadata": {},
   "source": [
    "FUNCTIONS"
   ]
  },
  {
   "cell_type": "code",
   "execution_count": 174,
   "id": "1f7381c8",
   "metadata": {},
   "outputs": [],
   "source": [
    "def estrai_saliti_scesi(val):\n",
    "    if val == '--' or pd.isna(val):\n",
    "        return ('0/0', 0,0)\n",
    "    elif '/' in val:\n",
    "        saliti, scesi = val.split('/')\n",
    "        return (val,int(saliti), -int(scesi))\n",
    "    elif val.startswith('-'):\n",
    "        return (f\"0/{int(val.strip('-'))}\",0, -int(val.strip('-')))\n",
    "    else:\n",
    "        try:\n",
    "            return (f'{int(val)}/0',int(val), 0)\n",
    "        except:\n",
    "            return ('0/0',0, 0)"
   ]
  },
  {
   "cell_type": "markdown",
   "id": "4b43b607",
   "metadata": {},
   "source": [
    "GET DATA"
   ]
  },
  {
   "cell_type": "code",
   "execution_count": 175,
   "id": "c81b5381",
   "metadata": {},
   "outputs": [],
   "source": [
    "df_db=pd.read_csv('database.txt', sep=':', header=None, names=['Code', 'Name'])\n",
    "df_db2=pd.read_csv('database.txt', sep=':', header=None, names=['Code', 'Name'])\n",
    "df_ae=pd.read_csv('dati_aeroporto_torino.csv',header=0)"
   ]
  },
  {
   "cell_type": "markdown",
   "id": "2e303609",
   "metadata": {},
   "source": [
    "GET TOTAL NUMBER OF PASSENGERS"
   ]
  },
  {
   "cell_type": "code",
   "execution_count": 176,
   "id": "871ef5d1",
   "metadata": {},
   "outputs": [
    {
     "data": {
      "text/html": [
       "<div>\n",
       "<style scoped>\n",
       "    .dataframe tbody tr th:only-of-type {\n",
       "        vertical-align: middle;\n",
       "    }\n",
       "\n",
       "    .dataframe tbody tr th {\n",
       "        vertical-align: top;\n",
       "    }\n",
       "\n",
       "    .dataframe thead th {\n",
       "        text-align: right;\n",
       "    }\n",
       "</style>\n",
       "<table border=\"1\" class=\"dataframe\">\n",
       "  <thead>\n",
       "    <tr style=\"text-align: right;\">\n",
       "      <th></th>\n",
       "      <th>Autista_ID</th>\n",
       "      <th>Time</th>\n",
       "      <th>Fermata_ID</th>\n",
       "      <th>Passeggeri</th>\n",
       "      <th>Passeggeri_mode</th>\n",
       "      <th>Saliti</th>\n",
       "      <th>Scesi</th>\n",
       "      <th>Totale_Passeggeri</th>\n",
       "    </tr>\n",
       "  </thead>\n",
       "  <tbody>\n",
       "    <tr>\n",
       "      <th>638</th>\n",
       "      <td>A139</td>\n",
       "      <td>21:45</td>\n",
       "      <td>F013</td>\n",
       "      <td>-16</td>\n",
       "      <td>0/16</td>\n",
       "      <td>0</td>\n",
       "      <td>-16</td>\n",
       "      <td>16</td>\n",
       "    </tr>\n",
       "    <tr>\n",
       "      <th>639</th>\n",
       "      <td>A006</td>\n",
       "      <td>22:00</td>\n",
       "      <td>F013</td>\n",
       "      <td>-12</td>\n",
       "      <td>0/12</td>\n",
       "      <td>0</td>\n",
       "      <td>-12</td>\n",
       "      <td>12</td>\n",
       "    </tr>\n",
       "    <tr>\n",
       "      <th>640</th>\n",
       "      <td>A212</td>\n",
       "      <td>22:15</td>\n",
       "      <td>F013</td>\n",
       "      <td>-11</td>\n",
       "      <td>0/11</td>\n",
       "      <td>0</td>\n",
       "      <td>-11</td>\n",
       "      <td>11</td>\n",
       "    </tr>\n",
       "    <tr>\n",
       "      <th>641</th>\n",
       "      <td>A021</td>\n",
       "      <td>22:30</td>\n",
       "      <td>F013</td>\n",
       "      <td>-13</td>\n",
       "      <td>0/13</td>\n",
       "      <td>0</td>\n",
       "      <td>-13</td>\n",
       "      <td>13</td>\n",
       "    </tr>\n",
       "    <tr>\n",
       "      <th>642</th>\n",
       "      <td>A022</td>\n",
       "      <td>22:45</td>\n",
       "      <td>F013</td>\n",
       "      <td>-4</td>\n",
       "      <td>0/4</td>\n",
       "      <td>0</td>\n",
       "      <td>-4</td>\n",
       "      <td>4</td>\n",
       "    </tr>\n",
       "    <tr>\n",
       "      <th>643</th>\n",
       "      <td>A109</td>\n",
       "      <td>23:00</td>\n",
       "      <td>F013</td>\n",
       "      <td>-11</td>\n",
       "      <td>0/11</td>\n",
       "      <td>0</td>\n",
       "      <td>-11</td>\n",
       "      <td>11</td>\n",
       "    </tr>\n",
       "    <tr>\n",
       "      <th>644</th>\n",
       "      <td>A200</td>\n",
       "      <td>23:15</td>\n",
       "      <td>F013</td>\n",
       "      <td>-11</td>\n",
       "      <td>0/11</td>\n",
       "      <td>0</td>\n",
       "      <td>-11</td>\n",
       "      <td>11</td>\n",
       "    </tr>\n",
       "    <tr>\n",
       "      <th>645</th>\n",
       "      <td>A010</td>\n",
       "      <td>23:30</td>\n",
       "      <td>F013</td>\n",
       "      <td>-11</td>\n",
       "      <td>0/11</td>\n",
       "      <td>0</td>\n",
       "      <td>-11</td>\n",
       "      <td>11</td>\n",
       "    </tr>\n",
       "    <tr>\n",
       "      <th>646</th>\n",
       "      <td>A139</td>\n",
       "      <td>23:45</td>\n",
       "      <td>F013</td>\n",
       "      <td>-4</td>\n",
       "      <td>0/4</td>\n",
       "      <td>0</td>\n",
       "      <td>-4</td>\n",
       "      <td>4</td>\n",
       "    </tr>\n",
       "    <tr>\n",
       "      <th>647</th>\n",
       "      <td>A006</td>\n",
       "      <td>00:00</td>\n",
       "      <td>F013</td>\n",
       "      <td>-5</td>\n",
       "      <td>0/5</td>\n",
       "      <td>0</td>\n",
       "      <td>-5</td>\n",
       "      <td>5</td>\n",
       "    </tr>\n",
       "  </tbody>\n",
       "</table>\n",
       "</div>"
      ],
      "text/plain": [
       "    Autista_ID   Time Fermata_ID Passeggeri Passeggeri_mode  Saliti  Scesi  \\\n",
       "638       A139  21:45       F013        -16            0/16       0    -16   \n",
       "639       A006  22:00       F013        -12            0/12       0    -12   \n",
       "640       A212  22:15       F013        -11            0/11       0    -11   \n",
       "641       A021  22:30       F013        -13            0/13       0    -13   \n",
       "642       A022  22:45       F013         -4             0/4       0     -4   \n",
       "643       A109  23:00       F013        -11            0/11       0    -11   \n",
       "644       A200  23:15       F013        -11            0/11       0    -11   \n",
       "645       A010  23:30       F013        -11            0/11       0    -11   \n",
       "646       A139  23:45       F013         -4             0/4       0     -4   \n",
       "647       A006  00:00       F013         -5             0/5       0     -5   \n",
       "\n",
       "     Totale_Passeggeri  \n",
       "638                 16  \n",
       "639                 12  \n",
       "640                 11  \n",
       "641                 13  \n",
       "642                  4  \n",
       "643                 11  \n",
       "644                 11  \n",
       "645                 11  \n",
       "646                  4  \n",
       "647                  5  "
      ]
     },
     "metadata": {},
     "output_type": "display_data"
    }
   ],
   "source": [
    "\n",
    "df_ae_melt=pd.melt(df_ae,id_vars=['ID', 'Time'],var_name='Fermata_ID',value_name='Passeggeri')  #idvars =identificativo di oggni riga    varname=come chiamo la nuova colonna che prende i nomi delle colonne passate(eccetto quelle identificative) \n",
    "df_ae_melt.rename(columns={'ID':'Autista_ID'}, inplace=True)\n",
    "\n",
    "df_ae_melt['Passeggeri_mode'] = df_ae_melt['Passeggeri'].astype(str).str.strip() #rimuovo spazi e mi assicuro che siano stringhe, così le converto con la prossima funzione in interi\n",
    "df_ae_melt[['Passeggeri_mode','Saliti', 'Scesi']] = df_ae_melt['Passeggeri_mode'].apply(estrai_saliti_scesi).apply(pd.Series) #applico la funzione estrai_saliti_scesi a tutte le righe\n",
    "\n",
    "df_ae_melt['Totale_Passeggeri']=df_ae_melt['Saliti'] - (df_ae_melt['Scesi'])\n",
    "display(df_ae_melt.tail(10))\n"
   ]
  },
  {
   "cell_type": "markdown",
   "id": "5d6de27b",
   "metadata": {},
   "source": [
    "ASSOCIATE AUTISTA_ID AND FERMATA_ID BETWEEN DATAFRAMES"
   ]
  },
  {
   "cell_type": "code",
   "execution_count": 184,
   "id": "3d9bf0e3",
   "metadata": {},
   "outputs": [],
   "source": [
    "df_db['Tipo'] = np.where(df_db['Code'].str.contains('A'), 'autista', 'fermata')\n",
    "#display(df_db)\n",
    "\n",
    "\n",
    "df_db_drivers= df_db.loc[df_db['Tipo']=='autista'].rename(columns={'Code':'Autista_ID'})\n",
    "df_db_stops=df_db.loc[df_db['Tipo']=='fermata'].rename(columns={'Code':'Fermata_ID'})\n",
    "#display(df_db_drivers)\n",
    "#display(df_db_stops)"
   ]
  },
  {
   "cell_type": "code",
   "execution_count": 182,
   "id": "a07e77d8",
   "metadata": {},
   "outputs": [],
   "source": [
    "\n",
    "#PRIMO JOIN\n",
    "df_joined=df_ae_melt.merge(df_db_drivers, how='left', on='Autista_ID')                                                          #nella riga in basso: non ho messo la colonna tipo, nel dataframe joined\n",
    "df_joined=df_joined[['Autista_ID','Name','Time','Fermata_ID','Passeggeri','Passeggeri_mode','Saliti','Scesi','Totale_Passeggeri']] #ho spostato la colonna 'Name' affianco a quella di 'Autista_ID'\n",
    "df_joined.rename(columns={'Name':'Autista_Name'}, inplace=True)\n",
    "#display(df_joined.sort_values(by='Totale_Passeggeri'))\n",
    "#display(df_joined)\n",
    "#display(df_joined.iloc[50:100])\n",
    "\n"
   ]
  },
  {
   "cell_type": "code",
   "execution_count": null,
   "id": "0688b097",
   "metadata": {},
   "outputs": [],
   "source": [
    "#SECONDO JOIN\n",
    "df_joined2=df_joined.merge(df_db_stops, on='Fermata_ID')\n",
    "df_joined2.rename(columns={'Name':'Fermata_Name'}, inplace=True)\n",
    "df_joined2=df_joined2[['Autista_ID','Autista_Name','Time','Fermata_ID','Fermata_Name','Passeggeri','Passeggeri_mode','Saliti','Scesi','Totale_Passeggeri']]\n",
    "#display(df_joined2)"
   ]
  },
  {
   "cell_type": "markdown",
   "id": "02be3db9",
   "metadata": {},
   "source": [
    "GET MAX/MIN PASSENGERS FOR EACH STOP"
   ]
  },
  {
   "cell_type": "code",
   "execution_count": 180,
   "id": "d40e34fb",
   "metadata": {},
   "outputs": [
    {
     "name": "stdout",
     "output_type": "stream",
     "text": [
      "La fermata con più saliti è  Aeroporto con 1626 passeggeri saliti \n",
      "La fermata con più scesi è  Torino P. Nuova con 1755 passeggeri scesi\n"
     ]
    }
   ],
   "source": [
    "'''RACCOLGO SALITI E SCESI'''\n",
    "SalitiRaccolti=df_joined2.groupby('Fermata_Name')['Saliti'].sum()\n",
    "#display(SalitiRaccolti)\n",
    "ScesiRaccolti=df_joined2.groupby('Fermata_Name')['Scesi'].sum()\n",
    "#display(ScesiRaccolti)\n",
    "\n",
    "max_saliti=SalitiRaccolti.max()\n",
    "#display(max_saliti)\n",
    "max_scesi=-(ScesiRaccolti.min())\n",
    "\n",
    "fermata_max= SalitiRaccolti.idxmax()\n",
    "#display(indice_fermata_max)\n",
    "fermata_min=ScesiRaccolti.idxmin()\n",
    "\n",
    "'''PRINT E SOLUZIONE'''\n",
    "#MaxSaliti=df_fermateRaccolte['Saliti'].max()\n",
    "#display(MaxSaliti)\n",
    "print(f'La fermata con più saliti è {fermata_max} con {max_saliti} passeggeri saliti ')\n",
    "print(f'La fermata con più scesi è {fermata_min} con {max_scesi} passeggeri scesi')"
   ]
  },
  {
   "cell_type": "markdown",
   "id": "3c8359bb",
   "metadata": {},
   "source": [
    "GET BOARDED PASSENGERS FOR EACH DRIVER"
   ]
  },
  {
   "cell_type": "code",
   "execution_count": 181,
   "id": "48001b09",
   "metadata": {},
   "outputs": [
    {
     "name": "stdout",
     "output_type": "stream",
     "text": [
      "{'A003': 335, 'A240': 316, 'A119': 301, 'A012': 296, 'A041': 289, 'A015': 284, 'A008': 257, 'A154': 246, 'A021': 163, 'A200': 149, 'A010': 140, 'A022': 117, 'A212': 111, 'A139': 107, 'A109': 98, 'A006': 87}\n",
      "Lista di autisti ordinata in base al numero di passeggeri saliti in una giornata:\n",
      "A003 con 335 passeggeri\n",
      "A240 con 316 passeggeri\n",
      "A119 con 301 passeggeri\n",
      "A012 con 296 passeggeri\n",
      "A041 con 289 passeggeri\n",
      "A015 con 284 passeggeri\n",
      "A008 con 257 passeggeri\n",
      "A154 con 246 passeggeri\n",
      "A021 con 163 passeggeri\n",
      "A200 con 149 passeggeri\n",
      "A010 con 140 passeggeri\n",
      "A022 con 117 passeggeri\n",
      "A212 con 111 passeggeri\n",
      "A139 con 107 passeggeri\n",
      "A109 con 98 passeggeri\n",
      "A006 con 87 passeggeri\n"
     ]
    }
   ],
   "source": [
    "\n",
    "\n",
    "#print(df_joined.groupby('Autista_ID')['Saliti'].sum())\n",
    "SalitiXAutista=df_joined.groupby('Autista_ID')['Saliti'].sum().to_dict() #creo dizionario con chiave autista id e valore la somma dei saliti per quell'autista id\n",
    "#print(SalitiXAutista)\n",
    "\n",
    "SalitiXAutistaOrdinato= dict(sorted(SalitiXAutista.items(), key=lambda item: item[1], reverse=True)) #ordino il dizionario in modo decrescente\n",
    "print(SalitiXAutistaOrdinato)\n",
    "print('Lista di autisti ordinata in base al numero di passeggeri saliti in una giornata:')\n",
    "\n",
    "for Autista_ID in SalitiXAutistaOrdinato:\n",
    "    print(f'{Autista_ID} con {SalitiXAutistaOrdinato[Autista_ID]} passeggeri')\n",
    "\n"
   ]
  }
 ],
 "metadata": {
  "kernelspec": {
   "display_name": "Python 3",
   "language": "python",
   "name": "python3"
  },
  "language_info": {
   "codemirror_mode": {
    "name": "ipython",
    "version": 3
   },
   "file_extension": ".py",
   "mimetype": "text/x-python",
   "name": "python",
   "nbconvert_exporter": "python",
   "pygments_lexer": "ipython3",
   "version": "3.10.7"
  }
 },
 "nbformat": 4,
 "nbformat_minor": 5
}
